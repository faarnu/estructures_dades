{
 "cells": [
  {
   "cell_type": "markdown",
   "id": "30ec11a0",
   "metadata": {},
   "source": [
    "# TASCA 1 ESTRUCTURA DE DADES\n",
    "\n"
   ]
  },
  {
   "cell_type": "markdown",
   "id": "ef76e1ab",
   "metadata": {},
   "source": [
    "## Exercici 1\n"
   ]
  },
  {
   "cell_type": "code",
   "execution_count": 17,
   "id": "f73c8a5c",
   "metadata": {},
   "outputs": [],
   "source": [
    "# Mesos del any en trimestres\n",
    "\n",
    "_1T = [\"Gener\", \"Febrer\", \"Març\"]\n",
    "_2T = [\"Abril\", \"Maig\", \"Juny\"]\n",
    "_3T = [\"Juliol\", \"Agost\", \"Setembre\"]\n",
    "_4T = [\"Octubre\", \"Novembre\", \"Desembre\"]\n",
    "\n",
    "# Llista amb les 4 llistes incloses\n",
    "\n",
    "Trimestres = [_1T, _2T, _3T, _4T]\n",
    "sumaLlistes = _1T + _2T +  _3T + _4T\n"
   ]
  },
  {
   "cell_type": "markdown",
   "id": "43f62333",
   "metadata": {},
   "source": [
    "## Exercici 2"
   ]
  },
  {
   "cell_type": "code",
   "execution_count": 25,
   "id": "26d344df",
   "metadata": {},
   "outputs": [
    {
     "name": "stdout",
     "output_type": "stream",
     "text": [
      "Febrer\n",
      "----------------------------------------\n",
      "Gener\n",
      "Febrer\n",
      "Març\n",
      "----------------------------------------\n",
      "Setembre\n",
      "Octubre\n"
     ]
    }
   ],
   "source": [
    "# Accedir al segon mes del 1T\n",
    "\n",
    "element = _1T[1]\n",
    "print (element)\n",
    "\n",
    "print(\"----------------------------------------\")\n",
    "# Accedir als mesos del 1T\n",
    "\n",
    "\n",
    "longitud = len(_1T)\n",
    "for i in range (longitud):\n",
    "    print(_1T[i])\n",
    "\n",
    "print(\"----------------------------------------\")\n",
    "# Accedir al mes de setembre i octubre\n",
    "\n",
    "sumaLlistes = _1T + _2T +  _3T + _4T\n",
    "\n",
    "mesSep = sumaLlistes [8]\n",
    "print(mesSep)\n",
    "\n",
    "mesOct = sumaLlistes [9]\n",
    "print(mesOct)\n"
   ]
  },
  {
   "cell_type": "markdown",
   "id": "1367feb4",
   "metadata": {},
   "source": [
    "## Exercici 3"
   ]
  },
  {
   "cell_type": "code",
   "execution_count": 19,
   "id": "926ea663",
   "metadata": {},
   "outputs": [
    {
     "name": "stdout",
     "output_type": "stream",
     "text": [
      "Llista (1, 4, 5, 9, 44, 42, 37, 91)\n",
      "----------------------------------------\n",
      "Quants números hi ha?\n",
      "8\n",
      "----------------------------------------\n",
      "Quantes vegades apareix el número 3\n",
      "0 vegades\n",
      "----------------------------------------\n",
      "Quantes vegades apareixen els nombres 3 i 4?\n",
      "----------------------------------------\n",
      "1 vegades\n",
      "----------------------------------------\n",
      "Quin és el número més gran?\n",
      "El num més gran es el  91\n",
      "----------------------------------------\n",
      "Quins són els 3 números més petits?\n",
      "----------------------------------------\n",
      "Quin és el rang d’aquesta llista?\n",
      "El rang de la llista es del  1 al  91\n"
     ]
    }
   ],
   "source": [
    "llistaAleatoria = (1,4,5,9,44,42,37,91)\n",
    "print(\"Llista\", llistaAleatoria)\n",
    "\n",
    "'''\n",
    "Quins són els 3 números més petits?\n",
    "Quin és el rang d’aquesta llista?'''\n",
    "\n",
    "\n",
    "\n",
    "#Quants números hi ha?\n",
    "print(\"----------------------------------------\")\n",
    "print(\"Quants números hi ha?\")\n",
    "print(len(llistaAleatoria))\n",
    "\n",
    "print(\"----------------------------------------\")\n",
    "#Quantes vegades apareix el número 3\n",
    "print(\"Quantes vegades apareix el número 3\")\n",
    "num = 3\n",
    "seRepite = llistaAleatoria.count(num)\n",
    "print(seRepite, \"vegades\")\n",
    "\n",
    "print(\"----------------------------------------\")\n",
    "#Quantes vegades apareixen els nombres 3 i 4?\n",
    "print(\"Quantes vegades apareixen els nombres 3 i 4?\")\n",
    "\n",
    "print(\"----------------------------------------\")\n",
    "num = 3\n",
    "num2 = 4\n",
    "seRepite = llistaAleatoria.count(num and num2)\n",
    "print(seRepite, \"vegades\")\n",
    "\n",
    "print(\"----------------------------------------\")\n",
    "\n",
    "#Quin és el número més gran?\n",
    "print(\"Quin és el número més gran?\")\n",
    "\n",
    "numMax = max(llistaAleatoria)\n",
    "print(\"El num més gran es el \", numMax)\n",
    "\n",
    "numMin = min(llistaAleatoria)\n",
    "\n",
    "\n",
    "print(\"----------------------------------------\")\n",
    "#Quins són els 3 números més petits?\n",
    "print(\"Quins són els 3 números més petits?\")\n",
    "\n",
    "\n",
    "\n",
    "print(\"----------------------------------------\")\n",
    "#Quin és el rang d’aquesta llista?\n",
    "print(\"Quin és el rang d’aquesta llista?\")\n",
    "numMax = max(llistaAleatoria)\n",
    "numMin = min(llistaAleatoria)\n",
    "\n",
    "\n",
    "print(\"El rang de la llista es del \", numMin, \"al \", numMax)\n",
    "\n",
    "\n",
    "\n"
   ]
  },
  {
   "cell_type": "markdown",
   "id": "39ff6b0c",
   "metadata": {},
   "source": [
    "## Exercici 4"
   ]
  },
  {
   "cell_type": "code",
   "execution_count": 74,
   "id": "40450f5e",
   "metadata": {},
   "outputs": [
    {
     "name": "stdout",
     "output_type": "stream",
     "text": [
      "CREACIÓ DICCIONARI\n",
      "{'pomes': {'Qty': 5, '€': 0.42}, 'peres': {'Qty': 3, '€': 0.66}}\n",
      "<class 'dict'>\n",
      "{'pomes': {'Qty': 5, '€': 0.42}, 'peres': {'Qty': 3, '€': 0.66}}\n",
      "<class 'dict'>\n",
      "----------------------------------------\n",
      "AFEIGIR UNA FRUITA MÉS\n",
      "{'pomes': {'Qty': 5, '€': 0.42}, 'peres': {'Qty': 3, '€': 0.66}, 'nabius': {'Qty': 25, '€': 0.05}}\n",
      "----------------------------------------\n",
      "COST TOTAL DE LES PERES?\n",
      "Les peres han costat  1.98 €\n",
      "----------------------------------------\n",
      "Quantes fruites hem comprat en total?\n",
      "S'han comprat 3 fruites\n",
      "----------------------------------------\n",
      "Quina és la fruita més cara?\n"
     ]
    }
   ],
   "source": [
    "#compra = { \"Pomes\" : {\"Qty\": 5, \"€\": 0.42}, \"Peres\" : {\"Qty\": 3, \"€\": 0.66} }\n",
    "\n",
    "print(\"CREACIÓ DICCIONARI\")\n",
    "\n",
    "compra1 = {\"pomes\":{\"Qty\":5,\"€\":0.42}, \"peres\":{\"Qty\":3,\"€\":0.66}}\n",
    "\n",
    "print (compra1)\n",
    "print(type(compra1))\n",
    "\n",
    "\n",
    "# Forma nº2 de crearlo es:\n",
    "\n",
    "compra2 = dict(\n",
    "    pomes = {\"Qty\":5,\"€\":0.42},\n",
    "    peres = {\"Qty\":3,\"€\":0.66},\n",
    "    \n",
    ")\n",
    "\n",
    "print (compra2)\n",
    "print(type(compra2))\n",
    "\n",
    "\n",
    "'''\n",
    "# Forma nº3 de crearlo es: (NO FUNCIONA-REVISAR)\n",
    "\n",
    "compra3 = dict(\n",
    "    pomes = dict(\n",
    "        \"Qty\"= 5,\n",
    "        \"€\"= 0.42),\n",
    "    peres = dict(\n",
    "        \"Qty\"=3,\n",
    "        \"€\"=0.66),   \n",
    ")'''\n",
    "\n",
    "\n",
    "print(\"----------------------------------------\")\n",
    "print(\"AFEIGIR UNA FRUITA MÉS\")\n",
    "\n",
    "compra1[\"nabius\"]= {\"Qty\":25,\"€\":0.05}\n",
    "print(compra1)\n",
    "\n",
    "print(\"----------------------------------------\")\n",
    "print(\"COST TOTAL DE LES PERES?\")\n",
    "\n",
    "costPeres = compra1[\"peres\"][\"Qty\"]*compra1[\"peres\"][\"€\"]\n",
    "\n",
    "print(\"Les peres han costat \", costPeres, \"€\")\n",
    "\n",
    "print(\"----------------------------------------\")\n",
    "print(\"Quantes fruites hem comprat en total?\")\n",
    "\n",
    "print(\"S'han comprat\", len(compra1.keys()), \"fruites\")\n",
    "\n",
    "\n",
    "\n",
    "print(\"----------------------------------------\")\n",
    "print(\"Quina és la fruita més cara?\")\n",
    "\n",
    "\n",
    "#max_preu = max(compra1, € = comprat.get)\n",
    "#print(max_preu)\n",
    "\n",
    "\n",
    "\n",
    "\n",
    "\n"
   ]
  }
 ],
 "metadata": {
  "kernelspec": {
   "display_name": "Python 3 (ipykernel)",
   "language": "python",
   "name": "python3"
  },
  "language_info": {
   "codemirror_mode": {
    "name": "ipython",
    "version": 3
   },
   "file_extension": ".py",
   "mimetype": "text/x-python",
   "name": "python",
   "nbconvert_exporter": "python",
   "pygments_lexer": "ipython3",
   "version": "3.9.7"
  }
 },
 "nbformat": 4,
 "nbformat_minor": 5
}
